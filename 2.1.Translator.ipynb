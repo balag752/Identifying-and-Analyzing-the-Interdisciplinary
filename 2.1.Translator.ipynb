{
 "cells": [
  {
   "cell_type": "code",
   "execution_count": 1,
   "metadata": {},
   "outputs": [],
   "source": [
    "import time\n",
    "import datetime\n",
    "import pandas as pd\n",
    "import numpy as np\n",
    "import seaborn as sns \n",
    "import matplotlib.pyplot as plt\n",
    "from tqdm import tqdm\n",
    "from mtranslate import translate"
   ]
  },
  {
   "cell_type": "code",
   "execution_count": 53,
   "metadata": {},
   "outputs": [],
   "source": [
    "#### Importing the file ####\n",
    "Path=\"src/\"\n",
    "Filename='projects_increment_translate(Name).csv'\n",
    "#Data=pd.read_csv(Path+Filename)"
   ]
  },
  {
   "cell_type": "code",
   "execution_count": 45,
   "metadata": {},
   "outputs": [
    {
     "name": "stderr",
     "output_type": "stream",
     "text": [
      "100%|██████████| 60825/60825 [2:17:23<00:00,  4.18it/s]  \n"
     ]
    }
   ],
   "source": [
    "#i=0\n",
    "Data=pd.read_csv(Path+Filename)\n",
    "iter=len(Data.Description)\n",
    "\n",
    "if not 'Translates' in Data.columns:\n",
    "    Data['Translates']=''\n",
    "\n",
    "with tqdm(total=iter) as bar:\n",
    "    for i in range(iter):  \n",
    "        if(Data['Translates'].loc[i]=='' or pd.isnull(Data['Translates'].loc[i])):\n",
    "            if(i%500==0):\n",
    "                Data.to_csv(Path+Filename, sep=',',index=False)\n",
    "            Data['Translates'].loc[i]=translate(Data['Description'].loc[i], 'en')\n",
    "        \n",
    "        bar.update(1)\n",
    "            \n",
    "Data.to_csv(Path+Filename, sep=',',index=False)"
   ]
  },
  {
   "cell_type": "code",
   "execution_count": 56,
   "metadata": {},
   "outputs": [
    {
     "name": "stderr",
     "output_type": "stream",
     "text": [
      "100%|██████████| 60825/60825 [6:33:37<00:00,  5.82it/s]   \n"
     ]
    }
   ],
   "source": [
    "#i=0\n",
    "#Data=pd.read_csv(Path+Filename)\n",
    "iter=len(Data.Name)\n",
    "\n",
    "if not 'Name_Translated' in Data.columns:\n",
    "    Data['Name_Translated']=''\n",
    "\n",
    "with tqdm(total=iter) as bar:\n",
    "    for i in range(iter):  \n",
    "        if(Data['Name_Translated'].loc[i]=='' or pd.isnull(Data['Name_Translated'].loc[i])):\n",
    "            if(i%5000==0):\n",
    "                Data.to_csv(Path+Filename, sep=',',index=False)\n",
    "            Data['Name_Translated'].loc[i]=translate(Data['Name'].loc[i], 'en')\n",
    "        \n",
    "        bar.update(1)\n",
    "            \n",
    "Data.to_csv(Path+Filename, sep=',',index=False)"
   ]
  }
 ],
 "metadata": {
  "kernelspec": {
   "display_name": "Python 3",
   "language": "python",
   "name": "python3"
  },
  "language_info": {
   "codemirror_mode": {
    "name": "ipython",
    "version": 3
   },
   "file_extension": ".py",
   "mimetype": "text/x-python",
   "name": "python",
   "nbconvert_exporter": "python",
   "pygments_lexer": "ipython3",
   "version": "3.7.3"
  }
 },
 "nbformat": 4,
 "nbformat_minor": 2
}
