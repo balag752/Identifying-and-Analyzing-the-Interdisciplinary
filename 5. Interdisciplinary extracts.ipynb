{
 "cells": [
  {
   "cell_type": "code",
   "execution_count": 102,
   "metadata": {},
   "outputs": [],
   "source": [
    "import datetime\n",
    "\n",
    "import pandas as pd\n",
    "import spacy\n",
    "import re\n",
    "import string\n",
    "import numpy as np\n",
    "\n",
    "import seaborn as sns\n",
    "from matplotlib import cm\n",
    "from matplotlib.pyplot import figure\n",
    "import matplotlib.pyplot as plt\n",
    "%matplotlib inline\n",
    "\n",
    "from spacy.tokens import Token\n",
    "from tqdm import tqdm\n",
    "from sklearn.feature_extraction.text import CountVectorizer, TfidfVectorizer\n",
    "\n",
    "import gensim\n",
    "from gensim import corpora, models\n",
    "from gensim.models.phrases import Phrases, Phraser\n",
    "from gensim.utils import simple_preprocess\n",
    "from gensim.parsing.preprocessing import STOPWORDS\n",
    "from gensim.models.coherencemodel import CoherenceModel\n",
    "from gensim.models import HdpModel\n",
    "\n",
    "from sklearn import metrics\n",
    "from sklearn.metrics.pairwise import cosine_similarity\n",
    "from collections import Counter\n",
    "import itertools\n",
    "\n",
    "import pyLDAvis.gensim\n",
    "pyLDAvis.enable_notebook()\n",
    "from ipywidgets import interact\n",
    "pyLDAvis.enable_notebook()\n",
    "\n",
    "import nltk\n",
    "from nltk.corpus import stopwords\n",
    "from textblob import TextBlob\n",
    "\n",
    "from sklearn.preprocessing import MinMaxScaler\n",
    "from sklearn.decomposition import PCA\n",
    "from sklearn.manifold import TSNE\n",
    "\n",
    "from sklearn.cluster import MiniBatchKMeans\n",
    "from sklearn.cluster import DBSCAN\n",
    "from sklearn.cluster import KMeans\n",
    "\n",
    "from sklearn.metrics import silhouette_score\n",
    "\n",
    "import enchant\n",
    "pd.set_option('display.max_rows', 500)"
   ]
  },
  {
   "cell_type": "code",
   "execution_count": 596,
   "metadata": {},
   "outputs": [],
   "source": [
    "#### Importing the file ####\n",
    "Path=\"src/\"\n",
    "Filename='IDBasedonSimliarity.csv'\n",
    "df=pd.read_csv(Path+Filename)\n",
    "\n",
    "ID_df=df[df['Interdiscipilinary']]\n",
    "\n",
    "coord_df=pd.read_csv(Path+'IDSimliarityCats.csv')"
   ]
  },
  {
   "cell_type": "code",
   "execution_count": 536,
   "metadata": {},
   "outputs": [],
   "source": [
    "## Word Embeddings Functions\n",
    "\n",
    "## Generate the tagged documents (tagging based on the category column)\n",
    "def create_tagged_document(list_of_list_of_words):\n",
    "    for i, list_of_words in enumerate(list_of_list_of_words):\n",
    "        yield gensim.models.doc2vec.TaggedDocument(list_of_words, [i])\n",
    "\n",
    "## Generate the tagged documents (each record in single tag )\n",
    "def create_tagged_document_based_on_tags(list_of_list_of_words, tags):\n",
    "    for i in range(len(list_of_list_of_words)):\n",
    "        yield gensim.models.doc2vec.TaggedDocument(list_of_list_of_words[i], [tags[i]])\n",
    "\n",
    "def make_bigram(inputlist):\n",
    "    bigram = Phrases(inputlist, min_count=3, threshold=1,delimiter=b' ')\n",
    "    bigram_phraser = Phraser(bigram)\n",
    "    new_list=[]\n",
    "    for sent in inputlist:\n",
    "        new_list.append(bigram_phraser[sent])\n",
    "    return new_list        \n",
    "        \n",
    "## Generate output using the word embedding model prediction - takes long time to regenerate\n",
    "def vec_for_learning(model, tagged_docs):\n",
    "    sents = tagged_docs#.values\n",
    "    targets, regressors = zip(*[(doc.tags[0], model.infer_vector(doc.words, steps=20)) for doc in sents])\n",
    "    return targets, regressors"
   ]
  },
  {
   "cell_type": "code",
   "execution_count": 537,
   "metadata": {},
   "outputs": [],
   "source": [
    "###############################\n",
    "#### LDA Topic Functions #####\n",
    "###############################\n",
    "\n",
    "def preprocess(text):\n",
    "    result = []\n",
    "    for token in gensim.utils.simple_preprocess(text):\n",
    "        if token not in gensim.parsing.preprocessing.STOPWORDS and len(token) > 3:\n",
    "            result.append(token)\n",
    "    return result\n",
    "\n",
    "#def make_bigram(inputlist):\n",
    "#    bigram = Phrases(inputlist, min_count=1, threshold=1,delimiter=b' ')\n",
    "#    bigram_phraser = Phraser(bigram)\n",
    "#    new_list=[]\n",
    "#    for sent in inputlist:\n",
    "#        new_list.append(bigram_phraser[sent])\n",
    "#    return new_list\n",
    "\n",
    "def buildLDA(processed_docs, ip_num_topics=4):\n",
    "    dictionary = gensim.corpora.Dictionary(processed_docs)\n",
    "    dictionary.filter_extremes(no_below=5, no_above=0.1, keep_n=1000)\n",
    "    bow_corpus = [dictionary.doc2bow(doc) for doc in processed_docs]\n",
    "\n",
    "    tfidf = models.TfidfModel(bow_corpus)\n",
    "    corpus_tfidf = tfidf[bow_corpus]\n",
    "    \n",
    "    return dictionary,bow_corpus,corpus_tfidf#, lda_model_tfidf\n",
    "\n",
    "def LDAtopicSummary(model, displaysubplot=[2,2]):\n",
    "    for idx, topic in model.print_topics(-1):\n",
    "        print('Topic: {} Word: {}'.format(idx, topic))\n",
    "        \n",
    "def format_topics_sentences(ldamodel, corpus, texts):\n",
    "    # Init output\n",
    "    sent_topics_df = pd.DataFrame()\n",
    "\n",
    "    # Get main topic in each document\n",
    "    \n",
    "    for i, row_list in enumerate(ldamodel[corpus]):\n",
    "        row = row_list            \n",
    "        #print(row)\n",
    "        row = sorted(row, key=lambda x: (x[1]), reverse=True)\n",
    "        # Get the Dominant topic, Perc Contribution and Keywords for each document\n",
    "        for j, (topic_num, prop_topic) in enumerate(row):\n",
    "            if j == 0:  # => dominant topic\n",
    "                wp = ldamodel.show_topic(topic_num)\n",
    "                topic_keywords = \", \".join([word for word, prop in wp])\n",
    "                sent_topics_df = sent_topics_df.append(pd.Series([int(topic_num), round(prop_topic,4), topic_keywords]), ignore_index=True)\n",
    "            else:\n",
    "                break\n",
    "    sent_topics_df.columns = ['Dominant_Topic', 'Perc_Contribution', 'Topic_Keywords']\n",
    "\n",
    "    \n",
    "    # Add original text to the end of the output\n",
    "    contents = pd.Series(texts)\n",
    "    sent_topics_df = pd.concat([sent_topics_df, contents], axis=1)\n",
    "    sent_topics_df.columns = ['Dominant_Topic', 'Perc_Contribution', 'Topic_Keywords',\"Text\"]\n",
    "    return(sent_topics_df)\n",
    "\n",
    "def build_topics_sentences(ldamodel, corpus):\n",
    "    # Init output\n",
    "    sent_topics_df = pd.DataFrame()\n",
    "    out_df=[]\n",
    "    # Get main topic in each document\n",
    "    for i, row_list in enumerate(ldamodel.get_document_topics(corpus)):\n",
    "        row = sorted(row_list, key=lambda x: x[1], reverse=True)\n",
    "        inn_df=[]\n",
    "        for num,prob in row:\n",
    "            inn_df.append(num)\n",
    "            inn_df.append(prob)\n",
    "        out_df.append(np.array(inn_df))\n",
    "            \n",
    "    return out_df\n",
    "\n",
    "def build_topic_df(model, cc,ip_num_topics):\n",
    "    Categories=[]\n",
    "    Topic_ids=[]\n",
    "    words=[]\n",
    "    probs=[]\n",
    "\n",
    "    topic_words=[]\n",
    "    for i in range(ip_num_topics):\n",
    "        for (word, value) in model.show_topic(i):\n",
    "            Topic_ids.append(i)\n",
    "            words.append(word)\n",
    "            probs.append(value)\n",
    "            Categories.append(cc)\n",
    "\n",
    "    return pd.DataFrame({'Category':Categories,'Topic':Topic_ids, 'words':words,'probs':probs })"
   ]
  },
  {
   "cell_type": "code",
   "execution_count": 538,
   "metadata": {},
   "outputs": [],
   "source": [
    "df['PrimaryTopic']=0\n",
    "df['PT_Score']=0\n",
    "df['SecondaryTopic']=0\n",
    "df['ST_score']=0\n",
    "\n",
    "topic_words=pd.DataFrame()"
   ]
  },
  {
   "cell_type": "markdown",
   "metadata": {},
   "source": [
    "### TF-IDF for small datasets"
   ]
  },
  {
   "cell_type": "code",
   "execution_count": 539,
   "metadata": {
    "scrolled": true
   },
   "outputs": [
    {
     "name": "stdout",
     "output_type": "stream",
     "text": [
      "Engineering Sciences 4286\n",
      "method       862.275089\n",
      "datum        804.237358\n",
      "use          536.144997\n",
      "design       500.323326\n",
      "control      493.179394\n",
      "test         477.619886\n",
      "problem      465.654961\n",
      "structure    449.340489\n",
      "task         402.951573\n",
      "network      380.883022\n",
      "dtype: float64\n",
      "Engineering Sciences,Humanities and Social Sciences,Natural Sciences 15\n",
      "material       4.532961\n",
      "area           2.875631\n",
      "concept        2.605906\n",
      "chemical       2.531132\n",
      "focus          2.379990\n",
      "particle       1.963167\n",
      "theoretical    1.685496\n",
      "historical     1.635145\n",
      "practice       1.516626\n",
      "glass          0.994752\n",
      "dtype: float64\n",
      "Humanities and Social Sciences 8594\n",
      "social        1397.427155\n",
      "question      1295.649358\n",
      "german        1189.443776\n",
      "history       1169.449399\n",
      "form          1083.741229\n",
      "century       1081.663934\n",
      "political      992.530328\n",
      "historical     979.889265\n",
      "cultural       959.150270\n",
      "language       665.347896\n",
      "dtype: float64\n",
      "Humanities and Social Sciences,Natural Sciences 2\n",
      "metal         0.868012\n",
      "glass         0.820255\n",
      "decapolis     0.410128\n",
      "large         0.289337\n",
      "copper        0.289337\n",
      "reliable      0.273418\n",
      "region        0.273418\n",
      "state         0.192892\n",
      "processing    0.192892\n",
      "question      0.165892\n",
      "dtype: float64\n",
      "Life Sciences 13017\n",
      "cell          4442.151093\n",
      "protein       2622.178932\n",
      "gene          2285.527917\n",
      "mechanism     1968.461775\n",
      "function      1933.954072\n",
      "role          1869.357835\n",
      "disease       1754.572877\n",
      "molecular     1615.448869\n",
      "specific      1549.940019\n",
      "expression    1519.353113\n",
      "dtype: float64\n",
      "Natural Sciences 1448\n",
      "reaction     262.651577\n",
      "formation    220.892282\n",
      "complex      206.349096\n",
      "structure    201.783816\n",
      "metal        184.591239\n",
      "compound     177.806726\n",
      "synthesis    157.657271\n",
      "organic      152.258237\n",
      "carbon       126.945371\n",
      "ligand       110.802219\n",
      "dtype: float64\n"
     ]
    }
   ],
   "source": [
    "for i,w in df.groupby('ID_Categories'):\n",
    "    if((len(w)<20) or (',' not in i) ):\n",
    "        vectorizer=TfidfVectorizer(max_features=10, ngram_range=(1, 1))\n",
    "        review_vectors = vectorizer.fit_transform(w['PreProcessedDescription'])\n",
    "        features_df = pd.DataFrame(review_vectors.toarray(), columns = vectorizer.get_feature_names())\n",
    "        print(i, len(w))\n",
    "        print(features_df.sum().sort_values(ascending=False))    \n",
    "        \n",
    "        topic_word_1=pd.DataFrame(features_df.sum().sort_values(ascending=False)).reset_index()\n",
    "        topic_word_1.columns=['words','probs']\n",
    "        topic_word_1['Category']=i\n",
    "        topic_word_1['Topic']=0\n",
    "        \n",
    "        topic_words=pd.concat([topic_words,topic_word_1])"
   ]
  },
  {
   "cell_type": "code",
   "execution_count": 540,
   "metadata": {
    "scrolled": true
   },
   "outputs": [
    {
     "name": "stdout",
     "output_type": "stream",
     "text": [
      "Engineering Sciences,Humanities and Social Sciences 750\n",
      "     Topic : 3 Coherence Score:  0.31746946359691935\n",
      "     Topic : 4 Coherence Score:  0.27679470087502067\n",
      "     Topic : 5 Coherence Score:  0.32085230247813035\n",
      "     Topic : 6 Coherence Score:  0.3097401868719919\n",
      "     Topic : 7 Coherence Score:  0.30743278077780817\n",
      "     Topic : 8 Coherence Score:  0.33524679848039707\n",
      "Engineering Sciences,Life Sciences 419\n",
      "     Topic : 3 Coherence Score:  0.40698444253619764\n",
      "     Topic : 4 Coherence Score:  0.3904255777396999\n",
      "     Topic : 5 Coherence Score:  0.43055788435238795\n",
      "     Topic : 6 Coherence Score:  0.43640082668737684\n",
      "     Topic : 7 Coherence Score:  0.42340061325433614\n",
      "     Topic : 8 Coherence Score:  0.3905571708403241\n",
      "Engineering Sciences,Life Sciences,Natural Sciences 260\n",
      "     Topic : 3 Coherence Score:  0.43218821690582715\n",
      "     Topic : 4 Coherence Score:  0.4546894946197745\n",
      "     Topic : 5 Coherence Score:  0.44043433183137315\n",
      "     Topic : 6 Coherence Score:  0.4615875116439876\n",
      "     Topic : 7 Coherence Score:  0.45984175022895485\n",
      "     Topic : 8 Coherence Score:  0.45464398946167095\n",
      "Engineering Sciences,Natural Sciences 18691\n",
      "     Topic : 8 Coherence Score:  0.4598636205088511\n",
      "     Topic : 9 Coherence Score:  0.48556708151181494\n",
      "     Topic : 10 Coherence Score:  0.4374030592050482\n",
      "     Topic : 11 Coherence Score:  0.5267560380392452\n",
      "     Topic : 12 Coherence Score:  0.46770171563618884\n",
      "     Topic : 13 Coherence Score:  0.45687276383141306\n",
      "     Topic : 14 Coherence Score:  0.533523388525621\n",
      "     Topic : 15 Coherence Score:  0.500735240860692\n",
      "     Topic : 16 Coherence Score:  0.5378734646806622\n",
      "     Topic : 17 Coherence Score:  0.5223665408551671\n",
      "     Topic : 18 Coherence Score:  0.5071446517609366\n",
      "     Topic : 19 Coherence Score:  0.48129801011153256\n",
      "Life Sciences,Natural Sciences 178\n",
      "     Topic : 3 Coherence Score:  0.4700487327334599\n",
      "     Topic : 4 Coherence Score:  0.48838384849015726\n",
      "     Topic : 5 Coherence Score:  0.4143785527505724\n",
      "     Topic : 6 Coherence Score:  0.42581070695849693\n",
      "     Topic : 7 Coherence Score:  0.4385228177200141\n",
      "     Topic : 8 Coherence Score:  0.4432123850958426\n"
     ]
    }
   ],
   "source": [
    "ID_cat=[]\n",
    "volume=[]\n",
    "numtopic=[]\n",
    "coherences=[]\n",
    "\n",
    "\n",
    "for cc,w in ID_df.groupby('ID_Categories'):\n",
    "    if(len(w)>50):\n",
    "        print(cc, len(w))    \n",
    "        docs=w[(w.ID_Categories==cc)][\"PreProcessedDescription\"].map(preprocess)\n",
    "        #print(cc, str(len(docs))+' docs in input')\n",
    "        \n",
    "        ipnumlist=list(range(8,12)) if (len(w)>1000) else list(range(3,9))\n",
    "        \n",
    "        dictionary,bow_corpus,corpus_tfidf =buildLDA(docs)\n",
    "        for ip_num_topics in ipnumlist:\n",
    "            lda_model_tfidf = gensim.models.LdaMulticore(corpus_tfidf, num_topics=ip_num_topics, id2word=dictionary, passes=4, workers=4, \n",
    "                                                             eta=[0.001]*len(dictionary.keys()), alpha =.001*ip_num_topics, random_state=42)\n",
    "\n",
    "            # Compute Coherence Score using c_v\n",
    "            coherence_model_lda = CoherenceModel(model=lda_model_tfidf, texts=docs, dictionary=dictionary, coherence='c_v')\n",
    "            coherence_lda = coherence_model_lda.get_coherence()\n",
    "            print('     Topic :',ip_num_topics ,'Coherence Score: ', coherence_lda)\n",
    "            ID_cat.append(cc)\n",
    "            volume.append(len(w))\n",
    "            numtopic.append(ip_num_topics)\n",
    "            coherences.append(coherence_lda)"
   ]
  },
  {
   "cell_type": "code",
   "execution_count": 541,
   "metadata": {},
   "outputs": [
    {
     "data": {
      "text/html": [
       "<div>\n",
       "<style scoped>\n",
       "    .dataframe tbody tr th:only-of-type {\n",
       "        vertical-align: middle;\n",
       "    }\n",
       "\n",
       "    .dataframe tbody tr th {\n",
       "        vertical-align: top;\n",
       "    }\n",
       "\n",
       "    .dataframe thead th {\n",
       "        text-align: right;\n",
       "    }\n",
       "</style>\n",
       "<table border=\"1\" class=\"dataframe\">\n",
       "  <thead>\n",
       "    <tr style=\"text-align: right;\">\n",
       "      <th></th>\n",
       "      <th>ID_Categories</th>\n",
       "      <th>Size</th>\n",
       "      <th>NumTopic</th>\n",
       "      <th>Coherences</th>\n",
       "    </tr>\n",
       "  </thead>\n",
       "  <tbody>\n",
       "    <tr>\n",
       "      <th>0</th>\n",
       "      <td>Engineering Sciences,Humanities and Social Sci...</td>\n",
       "      <td>750</td>\n",
       "      <td>8</td>\n",
       "      <td>0.335247</td>\n",
       "    </tr>\n",
       "    <tr>\n",
       "      <th>1</th>\n",
       "      <td>Engineering Sciences,Life Sciences</td>\n",
       "      <td>419</td>\n",
       "      <td>6</td>\n",
       "      <td>0.436401</td>\n",
       "    </tr>\n",
       "    <tr>\n",
       "      <th>2</th>\n",
       "      <td>Engineering Sciences,Life Sciences,Natural Sci...</td>\n",
       "      <td>260</td>\n",
       "      <td>6</td>\n",
       "      <td>0.461588</td>\n",
       "    </tr>\n",
       "    <tr>\n",
       "      <th>3</th>\n",
       "      <td>Engineering Sciences,Natural Sciences</td>\n",
       "      <td>18691</td>\n",
       "      <td>11</td>\n",
       "      <td>0.560572</td>\n",
       "    </tr>\n",
       "    <tr>\n",
       "      <th>4</th>\n",
       "      <td>Life Sciences,Natural Sciences</td>\n",
       "      <td>178</td>\n",
       "      <td>4</td>\n",
       "      <td>0.488384</td>\n",
       "    </tr>\n",
       "  </tbody>\n",
       "</table>\n",
       "</div>"
      ],
      "text/plain": [
       "                                       ID_Categories   Size  NumTopic  \\\n",
       "0  Engineering Sciences,Humanities and Social Sci...    750         8   \n",
       "1                 Engineering Sciences,Life Sciences    419         6   \n",
       "2  Engineering Sciences,Life Sciences,Natural Sci...    260         6   \n",
       "3              Engineering Sciences,Natural Sciences  18691        11   \n",
       "4                     Life Sciences,Natural Sciences    178         4   \n",
       "\n",
       "   Coherences  \n",
       "0    0.335247  \n",
       "1    0.436401  \n",
       "2    0.461588  \n",
       "3    0.560572  \n",
       "4    0.488384  "
      ]
     },
     "execution_count": 541,
     "metadata": {},
     "output_type": "execute_result"
    }
   ],
   "source": [
    "#tuning=pd.DataFrame({'ID_Categories':ID_cat,'Size':volume,'NumTopic':numtopic,'Coherences':coherences })\n",
    "#finaltuning=tuning[tuning.Coherences.isin(tuning.groupby('ID_Categories').max()['Coherences'])].reset_index()[tuning.columns]\n",
    "finaltuning"
   ]
  },
  {
   "cell_type": "markdown",
   "metadata": {},
   "source": [
    "### Engineering Sciences,Humanities and Social Sciences"
   ]
  },
  {
   "cell_type": "code",
   "execution_count": 542,
   "metadata": {
    "scrolled": true
   },
   "outputs": [
    {
     "name": "stdout",
     "output_type": "stream",
     "text": [
      "Engineering Sciences,Humanities and Social Sciences 8\n",
      "     Topic : 8 Coherence Score:  0.33524679848039707\n"
     ]
    },
    {
     "name": "stderr",
     "output_type": "stream",
     "text": [
      "/Users/balaji/anaconda3/lib/python3.7/site-packages/ipykernel_launcher.py:17: FutureWarning: Sorting because non-concatenation axis is not aligned. A future version\n",
      "of pandas will change to not sort by default.\n",
      "\n",
      "To accept the future behavior, pass 'sort=False'.\n",
      "\n",
      "To retain the current behavior and silence the warning, pass 'sort=True'.\n",
      "\n"
     ]
    }
   ],
   "source": [
    "cc=finaltuning.loc[0].ID_Categories\n",
    "ip_num_topics=finaltuning.loc[0].NumTopic\n",
    "\n",
    "print(cc,ip_num_topics)\n",
    "docs=ID_df[(ID_df.ID_Categories==cc)][\"PreProcessedDescription\"].map(preprocess)\n",
    "\n",
    "dictionary,bow_corpus,corpus_tfidf =buildLDA(docs)\n",
    "\n",
    "lda_model_tfidf = gensim.models.LdaMulticore(corpus_tfidf, num_topics=ip_num_topics, id2word=dictionary, passes=4, workers=4, eta=[0.0001]*len(dictionary.keys()), alpha =.001*ip_num_topics, random_state=42)\n",
    "\n",
    "# Compute Coherence Score using c_v\n",
    "coherence_model_lda = CoherenceModel(model=lda_model_tfidf, texts=docs, dictionary=dictionary, coherence='c_v')\n",
    "coherence_lda = coherence_model_lda.get_coherence()\n",
    "print('     Topic :',ip_num_topics ,'Coherence Score: ', coherence_lda)\n",
    "\n",
    "\n",
    "topic_words=pd.concat([topic_words,build_topic_df(lda_model_tfidf,cc,ip_num_topics)])\n",
    "\n",
    "topic_df=pd.DataFrame(build_topics_sentences(lda_model_tfidf,corpus_tfidf))[[0,1,2,3]]\n",
    "topic_df.columns=['PrimaryTopic','PT_Score','SecondaryTopic','ST_score']\n",
    "\n",
    "df.loc[((df['Interdiscipilinary']) & (ID_df.ID_Categories==cc)),'PrimaryTopic']=topic_df['PrimaryTopic'].tolist()\n",
    "df.loc[(df['Interdiscipilinary']) & (ID_df.ID_Categories==cc),'PT_Score']=topic_df['PT_Score'].tolist()\n",
    "df.loc[(df['Interdiscipilinary']) & (ID_df.ID_Categories==cc),'SecondaryTopic']=topic_df['SecondaryTopic'].tolist()\n",
    "df.loc[(df['Interdiscipilinary']) & (ID_df.ID_Categories==cc),'ST_score']=topic_df['ST_score'].tolist()"
   ]
  },
  {
   "cell_type": "code",
   "execution_count": 543,
   "metadata": {
    "scrolled": false
   },
   "outputs": [],
   "source": [
    "#pyLDAvis.gensim.prepare(lda_model_tfidf, bow_corpus, dictionary)"
   ]
  },
  {
   "cell_type": "code",
   "execution_count": 544,
   "metadata": {
    "scrolled": true
   },
   "outputs": [],
   "source": [
    "#df_filter=df[(df['Interdiscipilinary']) & (ID_df.ID_Categories==cc)].reset_index()[['SubUrl', 'Translates']]\n",
    "#topicsdf=pd.concat([df_filter,topic_df], axis=1)\n",
    "#topicsdf[(topicsdf.PrimaryTopic==2) & pd.isnull(topicsdf.SecondaryTopic)].sort_values('PT_Score',ascending=False).head().Translates.tolist()"
   ]
  },
  {
   "cell_type": "markdown",
   "metadata": {},
   "source": [
    "### Engineering Sciences,Life Sciences"
   ]
  },
  {
   "cell_type": "code",
   "execution_count": 545,
   "metadata": {},
   "outputs": [
    {
     "name": "stdout",
     "output_type": "stream",
     "text": [
      "Engineering Sciences,Life Sciences 6\n",
      "     Topic : 6 Coherence Score:  0.4303902291117756\n"
     ]
    },
    {
     "name": "stderr",
     "output_type": "stream",
     "text": [
      "/Users/balaji/anaconda3/lib/python3.7/site-packages/ipykernel_launcher.py:16: FutureWarning: Sorting because non-concatenation axis is not aligned. A future version\n",
      "of pandas will change to not sort by default.\n",
      "\n",
      "To accept the future behavior, pass 'sort=False'.\n",
      "\n",
      "To retain the current behavior and silence the warning, pass 'sort=True'.\n",
      "\n",
      "  app.launch_new_instance()\n"
     ]
    }
   ],
   "source": [
    "cc=finaltuning.loc[1].ID_Categories\n",
    "ip_num_topics=finaltuning.loc[1].NumTopic\n",
    "\n",
    "print(cc,ip_num_topics)\n",
    "docs=ID_df[(ID_df.ID_Categories==cc)][\"PreProcessedDescription\"].map(preprocess)\n",
    "\n",
    "dictionary,bow_corpus,corpus_tfidf =buildLDA(docs)\n",
    "\n",
    "lda_model_tfidf = gensim.models.LdaMulticore(corpus_tfidf, num_topics=ip_num_topics, id2word=dictionary, passes=4, workers=4, eta=[0.0001]*len(dictionary.keys()), alpha =.001*ip_num_topics, random_state=42)\n",
    "\n",
    "# Compute Coherence Score using c_v\n",
    "coherence_model_lda = CoherenceModel(model=lda_model_tfidf, texts=docs, dictionary=dictionary, coherence='c_v')\n",
    "coherence_lda = coherence_model_lda.get_coherence()\n",
    "print('     Topic :',ip_num_topics ,'Coherence Score: ', coherence_lda)\n",
    "\n",
    "topic_words=pd.concat([topic_words,build_topic_df(lda_model_tfidf,cc,ip_num_topics)])\n",
    "\n",
    "topic_df=pd.DataFrame(build_topics_sentences(lda_model_tfidf,corpus_tfidf))[[0,1,2,3]]\n",
    "topic_df.columns=['PrimaryTopic','PT_Score','SecondaryTopic','ST_score']\n",
    "\n",
    "df.loc[((df['Interdiscipilinary']) & (ID_df.ID_Categories==cc)),'PrimaryTopic']=topic_df['PrimaryTopic'].tolist()\n",
    "df.loc[(df['Interdiscipilinary']) & (ID_df.ID_Categories==cc),'PT_Score']=topic_df['PT_Score'].tolist()\n",
    "df.loc[(df['Interdiscipilinary']) & (ID_df.ID_Categories==cc),'SecondaryTopic']=topic_df['SecondaryTopic'].tolist()\n",
    "df.loc[(df['Interdiscipilinary']) & (ID_df.ID_Categories==cc),'ST_score']=topic_df['ST_score'].tolist()\n",
    "\n"
   ]
  },
  {
   "cell_type": "code",
   "execution_count": 546,
   "metadata": {},
   "outputs": [],
   "source": [
    "#lda_model_tfidf.show_topics()"
   ]
  },
  {
   "cell_type": "code",
   "execution_count": 547,
   "metadata": {},
   "outputs": [],
   "source": [
    "#pyLDAvis.gensim.prepare(lda_model_tfidf, bow_corpus, dictionary)"
   ]
  },
  {
   "cell_type": "code",
   "execution_count": 548,
   "metadata": {
    "scrolled": true
   },
   "outputs": [],
   "source": [
    "#df_filter=df[(df['Interdiscipilinary']) & (ID_df.ID_Categories==cc)].reset_index()[['SubUrl', 'Translates']]\n",
    "#topicsdf=pd.concat([df_filter,topic_df], axis=1)\n",
    "#topicsdf[(topicsdf.PrimaryTopic==1) & pd.isnull(topicsdf.SecondaryTopic)].sort_values('PT_Score',ascending=False).head().Translates.tolist()"
   ]
  },
  {
   "cell_type": "markdown",
   "metadata": {},
   "source": [
    "### Engineering Sciences,Life Sciences,Natural Sciences"
   ]
  },
  {
   "cell_type": "code",
   "execution_count": 549,
   "metadata": {},
   "outputs": [
    {
     "name": "stdout",
     "output_type": "stream",
     "text": [
      "Engineering Sciences,Life Sciences,Natural Sciences 6\n",
      "     Topic : 6 Coherence Score:  0.4608165481687448\n"
     ]
    },
    {
     "name": "stderr",
     "output_type": "stream",
     "text": [
      "/Users/balaji/anaconda3/lib/python3.7/site-packages/ipykernel_launcher.py:16: FutureWarning: Sorting because non-concatenation axis is not aligned. A future version\n",
      "of pandas will change to not sort by default.\n",
      "\n",
      "To accept the future behavior, pass 'sort=False'.\n",
      "\n",
      "To retain the current behavior and silence the warning, pass 'sort=True'.\n",
      "\n",
      "  app.launch_new_instance()\n"
     ]
    }
   ],
   "source": [
    "cc=finaltuning.loc[2].ID_Categories\n",
    "ip_num_topics=finaltuning.loc[2].NumTopic\n",
    "\n",
    "print(cc,ip_num_topics)\n",
    "docs=ID_df[(ID_df.ID_Categories==cc)][\"PreProcessedDescription\"].map(preprocess)\n",
    "\n",
    "dictionary,bow_corpus,corpus_tfidf =buildLDA(docs)\n",
    "\n",
    "lda_model_tfidf = gensim.models.LdaMulticore(corpus_tfidf, num_topics=ip_num_topics, id2word=dictionary, passes=4, workers=4, eta=[0.0001]*len(dictionary.keys()), alpha =.001*ip_num_topics, random_state=42)\n",
    "\n",
    "# Compute Coherence Score using c_v\n",
    "coherence_model_lda = CoherenceModel(model=lda_model_tfidf, texts=docs, dictionary=dictionary, coherence='c_v')\n",
    "coherence_lda = coherence_model_lda.get_coherence()\n",
    "print('     Topic :',ip_num_topics ,'Coherence Score: ', coherence_lda)\n",
    "\n",
    "topic_words=pd.concat([topic_words,build_topic_df(lda_model_tfidf,cc,ip_num_topics)])\n",
    "\n",
    "topic_df=pd.DataFrame(build_topics_sentences(lda_model_tfidf,corpus_tfidf))[[0,1,2,3]]\n",
    "topic_df.columns=['PrimaryTopic','PT_Score','SecondaryTopic','ST_score']\n",
    "\n",
    "df.loc[((df['Interdiscipilinary']) & (ID_df.ID_Categories==cc)),'PrimaryTopic']=topic_df['PrimaryTopic'].tolist()\n",
    "df.loc[(df['Interdiscipilinary']) & (ID_df.ID_Categories==cc),'PT_Score']=topic_df['PT_Score'].tolist()\n",
    "df.loc[(df['Interdiscipilinary']) & (ID_df.ID_Categories==cc),'SecondaryTopic']=topic_df['SecondaryTopic'].tolist()\n",
    "df.loc[(df['Interdiscipilinary']) & (ID_df.ID_Categories==cc),'ST_score']=topic_df['ST_score'].tolist()\n",
    "\n"
   ]
  },
  {
   "cell_type": "code",
   "execution_count": 550,
   "metadata": {},
   "outputs": [],
   "source": [
    "#lda_model_tfidf.show_topics()"
   ]
  },
  {
   "cell_type": "code",
   "execution_count": 551,
   "metadata": {},
   "outputs": [],
   "source": [
    "#pyLDAvis.gensim.prepare(lda_model_tfidf, bow_corpus, dictionary)"
   ]
  },
  {
   "cell_type": "markdown",
   "metadata": {},
   "source": [
    "### Engineering Sciences,Natural Sciences"
   ]
  },
  {
   "cell_type": "code",
   "execution_count": 552,
   "metadata": {},
   "outputs": [
    {
     "name": "stdout",
     "output_type": "stream",
     "text": [
      "Engineering Sciences,Natural Sciences 11\n",
      "     Topic : 11 Coherence Score:  0.5434713436649325\n"
     ]
    },
    {
     "name": "stderr",
     "output_type": "stream",
     "text": [
      "/Users/balaji/anaconda3/lib/python3.7/site-packages/ipykernel_launcher.py:16: FutureWarning: Sorting because non-concatenation axis is not aligned. A future version\n",
      "of pandas will change to not sort by default.\n",
      "\n",
      "To accept the future behavior, pass 'sort=False'.\n",
      "\n",
      "To retain the current behavior and silence the warning, pass 'sort=True'.\n",
      "\n",
      "  app.launch_new_instance()\n"
     ]
    }
   ],
   "source": [
    "cc=finaltuning.loc[3].ID_Categories\n",
    "ip_num_topics=finaltuning.loc[3].NumTopic\n",
    "\n",
    "print(cc,ip_num_topics)\n",
    "docs=ID_df[(ID_df.ID_Categories==cc)][\"PreProcessedDescription\"].map(preprocess)\n",
    "\n",
    "dictionary,bow_corpus,corpus_tfidf =buildLDA(docs)\n",
    "\n",
    "lda_model_tfidf = gensim.models.LdaMulticore(corpus_tfidf, num_topics=ip_num_topics, id2word=dictionary, passes=4, workers=4, eta=[0.0001]*len(dictionary.keys()), alpha =.001*ip_num_topics, random_state=42)\n",
    "\n",
    "# Compute Coherence Score using c_v\n",
    "coherence_model_lda = CoherenceModel(model=lda_model_tfidf, texts=docs, dictionary=dictionary, coherence='c_v')\n",
    "coherence_lda = coherence_model_lda.get_coherence()\n",
    "print('     Topic :',ip_num_topics ,'Coherence Score: ', coherence_lda)\n",
    "\n",
    "topic_words=pd.concat([topic_words,build_topic_df(lda_model_tfidf,cc,ip_num_topics)])\n",
    "\n",
    "topic_df=pd.DataFrame(build_topics_sentences(lda_model_tfidf,corpus_tfidf))[[0,1,2,3]]\n",
    "topic_df.columns=['PrimaryTopic','PT_Score','SecondaryTopic','ST_score']\n",
    "\n",
    "df.loc[((df['Interdiscipilinary']) & (ID_df.ID_Categories==cc)),'PrimaryTopic']=topic_df['PrimaryTopic'].tolist()\n",
    "df.loc[(df['Interdiscipilinary']) & (ID_df.ID_Categories==cc),'PT_Score']=topic_df['PT_Score'].tolist()\n",
    "df.loc[(df['Interdiscipilinary']) & (ID_df.ID_Categories==cc),'SecondaryTopic']=topic_df['SecondaryTopic'].tolist()\n",
    "df.loc[(df['Interdiscipilinary']) & (ID_df.ID_Categories==cc),'ST_score']=topic_df['ST_score'].tolist()\n",
    "\n"
   ]
  },
  {
   "cell_type": "code",
   "execution_count": 553,
   "metadata": {
    "scrolled": true
   },
   "outputs": [],
   "source": [
    "#lda_model_tfidf.show_topics()"
   ]
  },
  {
   "cell_type": "code",
   "execution_count": 554,
   "metadata": {},
   "outputs": [],
   "source": [
    "#pyLDAvis.gensim.prepare(lda_model_tfidf, bow_corpus, dictionary)"
   ]
  },
  {
   "cell_type": "markdown",
   "metadata": {},
   "source": [
    "### Life Sciences,Natural Sciences"
   ]
  },
  {
   "cell_type": "code",
   "execution_count": 555,
   "metadata": {},
   "outputs": [
    {
     "name": "stdout",
     "output_type": "stream",
     "text": [
      "Life Sciences,Natural Sciences 4\n",
      "     Topic : 4 Coherence Score:  0.48838384849015726\n"
     ]
    },
    {
     "name": "stderr",
     "output_type": "stream",
     "text": [
      "/Users/balaji/anaconda3/lib/python3.7/site-packages/ipykernel_launcher.py:16: FutureWarning: Sorting because non-concatenation axis is not aligned. A future version\n",
      "of pandas will change to not sort by default.\n",
      "\n",
      "To accept the future behavior, pass 'sort=False'.\n",
      "\n",
      "To retain the current behavior and silence the warning, pass 'sort=True'.\n",
      "\n",
      "  app.launch_new_instance()\n"
     ]
    }
   ],
   "source": [
    "cc=finaltuning.loc[4].ID_Categories\n",
    "ip_num_topics=finaltuning.loc[4].NumTopic\n",
    "\n",
    "print(cc,ip_num_topics)\n",
    "docs=ID_df[(ID_df.ID_Categories==cc)][\"PreProcessedDescription\"].map(preprocess)\n",
    "\n",
    "dictionary,bow_corpus,corpus_tfidf =buildLDA(docs)\n",
    "\n",
    "lda_model_tfidf = gensim.models.LdaMulticore(corpus_tfidf, num_topics=ip_num_topics, id2word=dictionary, passes=4, workers=4, eta=[0.0001]*len(dictionary.keys()), alpha =.001*ip_num_topics, random_state=42)\n",
    "\n",
    "# Compute Coherence Score using c_v\n",
    "coherence_model_lda = CoherenceModel(model=lda_model_tfidf, texts=docs, dictionary=dictionary, coherence='c_v')\n",
    "coherence_lda = coherence_model_lda.get_coherence()\n",
    "print('     Topic :',ip_num_topics ,'Coherence Score: ', coherence_lda)\n",
    "\n",
    "topic_words=pd.concat([topic_words,build_topic_df(lda_model_tfidf,cc,ip_num_topics)])\n",
    "\n",
    "topic_df=pd.DataFrame(build_topics_sentences(lda_model_tfidf,corpus_tfidf))[[0,1,2,3]]\n",
    "topic_df.columns=['PrimaryTopic','PT_Score','SecondaryTopic','ST_score']\n",
    "\n",
    "df.loc[((df['Interdiscipilinary']) & (ID_df.ID_Categories==cc)),'PrimaryTopic']=topic_df['PrimaryTopic'].tolist()\n",
    "df.loc[(df['Interdiscipilinary']) & (ID_df.ID_Categories==cc),'PT_Score']=topic_df['PT_Score'].tolist()\n",
    "df.loc[(df['Interdiscipilinary']) & (ID_df.ID_Categories==cc),'SecondaryTopic']=topic_df['SecondaryTopic'].tolist()\n",
    "df.loc[(df['Interdiscipilinary']) & (ID_df.ID_Categories==cc),'ST_score']=topic_df['ST_score'].tolist()\n",
    "\n"
   ]
  },
  {
   "cell_type": "code",
   "execution_count": 556,
   "metadata": {
    "scrolled": true
   },
   "outputs": [],
   "source": [
    "#lda_model_tfidf.show_topics()"
   ]
  },
  {
   "cell_type": "code",
   "execution_count": 557,
   "metadata": {},
   "outputs": [],
   "source": [
    "#pyLDAvis.gensim.prepare(lda_model_tfidf, bow_corpus, dictionary)"
   ]
  },
  {
   "cell_type": "markdown",
   "metadata": {},
   "source": [
    "### Word Embedding - data generation"
   ]
  },
  {
   "cell_type": "code",
   "execution_count": 558,
   "metadata": {},
   "outputs": [],
   "source": [
    "DescDictforpca=[[x for x in str(i).split()] for i in df.PreProcessedDescription]\n",
    "\n",
    "tagged_valueforpca = list(create_tagged_document(DescDictforpca))\n",
    "\n",
    "modelforpca = gensim.models.doc2vec.Doc2Vec(vector_size=10, min_count=5, epochs=40, alpha = 0.02, dm=1, workers=4)\n",
    "\n",
    "# Build the Volabulary\n",
    "modelforpca.build_vocab(tagged_valueforpca)\n",
    "modelforpca.train(tagged_valueforpca, total_examples=len(tagged_valueforpca), epochs=40)\n",
    "\n",
    "new_features=pd.concat([pd.DataFrame(modelforpca.docvecs.vectors_docs),df[['PrimaryTopic', 'PT_Score', 'SecondaryTopic', 'ST_score']]], axis=1,ignore_index=False)\n",
    "cols=new_features.columns"
   ]
  },
  {
   "cell_type": "markdown",
   "metadata": {},
   "source": [
    "### LDA Visualization for Topics"
   ]
  },
  {
   "cell_type": "code",
   "execution_count": 559,
   "metadata": {},
   "outputs": [
    {
     "data": {
      "text/plain": [
       "Engineering Sciences,Natural Sciences                                   110\n",
       "Engineering Sciences,Humanities and Social Sciences                      80\n",
       "Engineering Sciences,Life Sciences                                       60\n",
       "Engineering Sciences,Life Sciences,Natural Sciences                      60\n",
       "Life Sciences,Natural Sciences                                           40\n",
       "Engineering Sciences,Humanities and Social Sciences,Natural Sciences     10\n",
       "Life Sciences                                                            10\n",
       "Natural Sciences                                                         10\n",
       "Humanities and Social Sciences                                           10\n",
       "Engineering Sciences                                                     10\n",
       "Humanities and Social Sciences,Natural Sciences                          10\n",
       "Name: Category, dtype: int64"
      ]
     },
     "execution_count": 559,
     "metadata": {},
     "output_type": "execute_result"
    }
   ],
   "source": [
    "topic_words=topic_words.drop_duplicates()#\n",
    "topic_words.Category.value_counts()"
   ]
  },
  {
   "cell_type": "code",
   "execution_count": 608,
   "metadata": {
    "scrolled": false
   },
   "outputs": [
    {
     "data": {
      "image/png": "[encoded data removed]",
      "text/plain": [
       "<Figure size 936x576 with 1 Axes>"
      ]
     },
     "metadata": {
      "needs_background": "light"
     },
     "output_type": "display_data"
    }
   ],
   "source": [
    "#topic_words[topic_words.Category=='Engineering Sciences,Humanities and Social Sciences']#.words.tolist()\n",
    "topic_feature_c=[]\n",
    "topic_feature_t=[]\n",
    "topic_feature_w=[]\n",
    "\n",
    "for (c,t), w in topic_words.groupby(['Category','Topic']):\n",
    "    topic_feature_c.append(c)\n",
    "    topic_feature_t.append(t)\n",
    "    topic_feature_w.append(w.words.tolist())\n",
    "    \n",
    "topic_features=[]\n",
    "for t in topic_feature_w:\n",
    "    topic_features.append(modelforpca.infer_vector(t))\n",
    "topic_features=pd.DataFrame(topic_features)\n",
    "topic_features['Category']=topic_feature_c\n",
    "topic_features['Topic']=topic_feature_t\n",
    "topic_features['words']=[' '.join(w) for w in topic_feature_w]\n",
    "\n",
    "topic_features['tsne-2d-one']=0\n",
    "topic_features['tsne-2d-two']=0\n",
    "\n",
    "coords= TSNE(n_components=2,perplexity=16, random_state=42, n_iter=450).fit_transform(topic_features[range(10)])\n",
    "topic_features.loc[:, 'tsne-2d-one']=pd.DataFrame(coords)[0].tolist()\n",
    "topic_features.loc[:, 'tsne-2d-two']=pd.DataFrame(coords)[1].tolist()\n",
    "\n",
    "i='Engineering Sciences,Humanities and Social Sciences,Natural Sciences'\n",
    "plt.figure(figsize=(13,8))\n",
    "p1=sns.scatterplot(\n",
    "        x=\"tsne-2d-one\", y=\"tsne-2d-two\",\n",
    "        hue=\"Category\",\n",
    "        data=topic_features,\n",
    "        #legend=\"full\",\n",
    "        #palette=\"Set2\",\n",
    "        alpha=0.8\n",
    "    );\n",
    "\n",
    "for line in range(coords.shape[0]):\n",
    "     p1.text(coords[line][0]+0.03, coords[line][1], topic_features.Topic[line], horizontalalignment='left',  size='medium', color='black')"
   ]
  },
  {
   "cell_type": "code",
   "execution_count": 678,
   "metadata": {},
   "outputs": [],
   "source": [
    "## Redistribute from 0 to 1\n",
    "for c,w in topic_words.groupby(['Category']):\n",
    "    if(w['probs'].max()>1):\n",
    "        topic_words.loc[topic_words.Category==c,['probs']]=MinMaxScaler([0,1]).fit_transform(topic_words[topic_words.Category==c][['probs']])"
   ]
  },
  {
   "cell_type": "code",
   "execution_count": 681,
   "metadata": {},
   "outputs": [
    {
     "data": {
      "text/html": [
       "<div>\n",
       "<style scoped>\n",
       "    .dataframe tbody tr th:only-of-type {\n",
       "        vertical-align: middle;\n",
       "    }\n",
       "\n",
       "    .dataframe tbody tr th {\n",
       "        vertical-align: top;\n",
       "    }\n",
       "\n",
       "    .dataframe thead th {\n",
       "        text-align: right;\n",
       "    }\n",
       "</style>\n",
       "<table border=\"1\" class=\"dataframe\">\n",
       "  <thead>\n",
       "    <tr style=\"text-align: right;\">\n",
       "      <th></th>\n",
       "      <th>Category</th>\n",
       "      <th>Topic</th>\n",
       "      <th>probs</th>\n",
       "      <th>words</th>\n",
       "    </tr>\n",
       "  </thead>\n",
       "  <tbody>\n",
       "    <tr>\n",
       "      <th>0</th>\n",
       "      <td>Engineering Sciences</td>\n",
       "      <td>0</td>\n",
       "      <td>1.000000</td>\n",
       "      <td>method</td>\n",
       "    </tr>\n",
       "    <tr>\n",
       "      <th>1</th>\n",
       "      <td>Engineering Sciences</td>\n",
       "      <td>0</td>\n",
       "      <td>0.879438</td>\n",
       "      <td>datum</td>\n",
       "    </tr>\n",
       "    <tr>\n",
       "      <th>2</th>\n",
       "      <td>Engineering Sciences</td>\n",
       "      <td>0</td>\n",
       "      <td>0.322527</td>\n",
       "      <td>use</td>\n",
       "    </tr>\n",
       "    <tr>\n",
       "      <th>3</th>\n",
       "      <td>Engineering Sciences</td>\n",
       "      <td>0</td>\n",
       "      <td>0.248114</td>\n",
       "      <td>design</td>\n",
       "    </tr>\n",
       "    <tr>\n",
       "      <th>4</th>\n",
       "      <td>Engineering Sciences</td>\n",
       "      <td>0</td>\n",
       "      <td>0.233274</td>\n",
       "      <td>control</td>\n",
       "    </tr>\n",
       "    <tr>\n",
       "      <th>5</th>\n",
       "      <td>Engineering Sciences</td>\n",
       "      <td>0</td>\n",
       "      <td>0.200952</td>\n",
       "      <td>test</td>\n",
       "    </tr>\n",
       "    <tr>\n",
       "      <th>6</th>\n",
       "      <td>Engineering Sciences</td>\n",
       "      <td>0</td>\n",
       "      <td>0.176097</td>\n",
       "      <td>problem</td>\n",
       "    </tr>\n",
       "    <tr>\n",
       "      <th>7</th>\n",
       "      <td>Engineering Sciences</td>\n",
       "      <td>0</td>\n",
       "      <td>0.142207</td>\n",
       "      <td>structure</td>\n",
       "    </tr>\n",
       "    <tr>\n",
       "      <th>8</th>\n",
       "      <td>Engineering Sciences</td>\n",
       "      <td>0</td>\n",
       "      <td>0.045843</td>\n",
       "      <td>task</td>\n",
       "    </tr>\n",
       "    <tr>\n",
       "      <th>9</th>\n",
       "      <td>Engineering Sciences</td>\n",
       "      <td>0</td>\n",
       "      <td>0.000000</td>\n",
       "      <td>network</td>\n",
       "    </tr>\n",
       "  </tbody>\n",
       "</table>\n",
       "</div>"
      ],
      "text/plain": [
       "               Category  Topic     probs      words\n",
       "0  Engineering Sciences      0  1.000000     method\n",
       "1  Engineering Sciences      0  0.879438      datum\n",
       "2  Engineering Sciences      0  0.322527        use\n",
       "3  Engineering Sciences      0  0.248114     design\n",
       "4  Engineering Sciences      0  0.233274    control\n",
       "5  Engineering Sciences      0  0.200952       test\n",
       "6  Engineering Sciences      0  0.176097    problem\n",
       "7  Engineering Sciences      0  0.142207  structure\n",
       "8  Engineering Sciences      0  0.045843       task\n",
       "9  Engineering Sciences      0  0.000000    network"
      ]
     },
     "execution_count": 681,
     "metadata": {},
     "output_type": "execute_result"
    }
   ],
   "source": [
    "topic_words[topic_words.Category=='Engineering Sciences']"
   ]
  },
  {
   "cell_type": "code",
   "execution_count": 679,
   "metadata": {
    "scrolled": true
   },
   "outputs": [],
   "source": [
    "topic_words.to_csv(Path+'IDSimliarityTopicWords.csv', index=False)\n",
    "topic_features[['Category', 'Topic','words', 'tsne-2d-one', 'tsne-2d-two']].to_csv(Path+'IDSimliarityTopic.csv', index=False)"
   ]
  },
  {
   "cell_type": "markdown",
   "metadata": {},
   "source": [
    "### LDA Visualization for DF"
   ]
  },
  {
   "cell_type": "code",
   "execution_count": 562,
   "metadata": {
    "scrolled": true
   },
   "outputs": [],
   "source": [
    "df.loc[pd.isnull(df.SecondaryTopic),'SecondaryTopic']=-1\n",
    "df.loc[pd.isnull(df.ST_score),'ST_score']=-1"
   ]
  },
  {
   "cell_type": "code",
   "execution_count": 563,
   "metadata": {},
   "outputs": [],
   "source": [
    "dfWE=pd.DataFrame(modelforpca.docvecs.vectors_docs)\n",
    "dfWE['ID_Categories']=df['ID_Categories']\n",
    "#dfWE['PrimaryTopic']=df['PrimaryTopic']\n",
    "\n",
    "dfWE[['PrimaryTopic', 'PT_Score', 'SecondaryTopic', 'ST_score']]=df[['PrimaryTopic', 'PT_Score', 'SecondaryTopic', 'ST_score']]"
   ]
  },
  {
   "cell_type": "code",
   "execution_count": 564,
   "metadata": {},
   "outputs": [
    {
     "name": "stdout",
     "output_type": "stream",
     "text": [
      "{'Engineering Sciences': 4286, 'Engineering Sciences,Humanities and Social Sciences': 750, 'Engineering Sciences,Humanities and Social Sciences,Natural Sciences': 15, 'Engineering Sciences,Life Sciences': 419, 'Engineering Sciences,Life Sciences,Natural Sciences': 260, 'Engineering Sciences,Natural Sciences': 18691, 'Humanities and Social Sciences': 8594, 'Humanities and Social Sciences,Natural Sciences': 2, 'Life Sciences': 13017, 'Life Sciences,Natural Sciences': 178, 'Natural Sciences': 1448}\n"
     ]
    }
   ],
   "source": [
    "dfWE['ID_Categories'].value_counts()\n",
    "perp={}\n",
    "for i,w in dfWE.groupby('ID_Categories'):\n",
    "    perp[i]=len(w)\n",
    "print(perp)\n",
    "perp={'Engineering Sciences': 100,\n",
    " 'Engineering Sciences,Humanities and Social Sciences': 3.5,\n",
    " 'Engineering Sciences,Humanities and Social Sciences,Natural Sciences': 3.5,\n",
    " 'Engineering Sciences,Life Sciences': 3.5,\n",
    " 'Engineering Sciences,Life Sciences,Natural Sciences': 3.5,\n",
    " 'Engineering Sciences,Natural Sciences': 100,\n",
    " 'Humanities and Social Sciences': 70,\n",
    " 'Humanities and Social Sciences,Natural Sciences': 3,\n",
    " 'Life Sciences': 100,\n",
    " 'Life Sciences,Natural Sciences': 10,\n",
    " 'Natural Sciences': 30}"
   ]
  },
  {
   "cell_type": "code",
   "execution_count": 565,
   "metadata": {
    "scrolled": true
   },
   "outputs": [
    {
     "name": "stdout",
     "output_type": "stream",
     "text": [
      "Engineering Sciences 4286 100\n",
      "Engineering Sciences,Humanities and Social Sciences 750 3.5\n",
      "Engineering Sciences,Humanities and Social Sciences,Natural Sciences 15 3.5\n",
      "Engineering Sciences,Life Sciences 419 3.5\n",
      "Engineering Sciences,Life Sciences,Natural Sciences 260 3.5\n",
      "Engineering Sciences,Natural Sciences 18691 100\n",
      "Humanities and Social Sciences 8594 70\n",
      "Humanities and Social Sciences,Natural Sciences 2 3\n",
      "Life Sciences 13017 100\n",
      "Life Sciences,Natural Sciences 178 10\n",
      "Natural Sciences 1448 30\n"
     ]
    }
   ],
   "source": [
    "df['tsne-2d-one']=0\n",
    "df['tsne-2d-two']=0\n",
    "i='Life Sciences,Natural Sciences'\n",
    "\n",
    "for c, w in dfWE.groupby('ID_Categories'):\n",
    "    print(c,len(w),perp[c])\n",
    "    coords = TSNE(n_components=2,perplexity=perp[c], random_state=42, n_iter=650).fit_transform(dfWE[dfWE.ID_Categories==c][['PrimaryTopic', 'PT_Score', 'SecondaryTopic', 'ST_score']+list(range(3))])\n",
    "    df.loc[dfWE.ID_Categories==c, 'tsne-2d-one']=pd.DataFrame(coords)[0].tolist()\n",
    "    df.loc[dfWE.ID_Categories==c, 'tsne-2d-two']=pd.DataFrame(coords)[1].tolist()"
   ]
  },
  {
   "cell_type": "code",
   "execution_count": 566,
   "metadata": {},
   "outputs": [
    {
     "data": {
      "image/png": "[encoded data removed]",
      "text/plain": [
       "<Figure size 936x576 with 1 Axes>"
      ]
     },
     "metadata": {
      "needs_background": "light"
     },
     "output_type": "display_data"
    }
   ],
   "source": [
    "plt.figure(figsize=(13,8))\n",
    "sns.scatterplot(\n",
    "        x=\"tsne-2d-one\", y=\"tsne-2d-two\",\n",
    "        hue=\"PrimaryTopic\",\n",
    "        data=df[df.ID_Categories==i],\n",
    "        legend=\"full\",\n",
    "        palette=\"Set2\",\n",
    "        alpha=0.8\n",
    "    );"
   ]
  },
  {
   "cell_type": "code",
   "execution_count": 588,
   "metadata": {},
   "outputs": [],
   "source": [
    "df=df[pd.isnull(df['ID_Categories'])==False]"
   ]
  },
  {
   "cell_type": "code",
   "execution_count": 590,
   "metadata": {},
   "outputs": [],
   "source": [
    "#df[df['Interdiscipilinary']==False].groupby(['Category','ID_Categories']).count()['SubUrl']"
   ]
  },
  {
   "cell_type": "code",
   "execution_count": 609,
   "metadata": {},
   "outputs": [],
   "source": [
    "df.PrimaryTopic=df.PrimaryTopic.astype(int)\n",
    "#topic_features.Topic=topic_features.Topic.astype(int)\n",
    "df.to_csv(Path+'FinalSimiliarID.csv', index=False)"
   ]
  },
  {
   "cell_type": "code",
   "execution_count": 610,
   "metadata": {},
   "outputs": [
    {
     "data": {
      "text/plain": [
       "Index(['Name', 'SubUrl', 'FundingFrom', 'FundingEnd', 'SubjectArea',\n",
       "       'Institution', 'Description', 'Translates', 'Name_Translated',\n",
       "       'PreProcessedDescription', 'File_Categories', 'Category',\n",
       "       'PrimaryMatching', 'PrimaryMatchingSim', 'SecMatching',\n",
       "       'SecMatchingSim', 'ThrdMatching', 'ThrdMatchingSim', 'ID_Categories',\n",
       "       'Interdiscipilinary', 'PrimaryTopic', 'PT_Score', 'SecondaryTopic',\n",
       "       'ST_score', 'tsne-2d-one', 'tsne-2d-two'],\n",
       "      dtype='object')"
      ]
     },
     "execution_count": 610,
     "metadata": {},
     "output_type": "execute_result"
    }
   ],
   "source": [
    "df.columns"
   ]
  },
  {
   "cell_type": "code",
   "execution_count": 611,
   "metadata": {},
   "outputs": [],
   "source": [
    "report_df=df.merge(topic_features[['Category', 'Topic','words', 'tsne-2d-one', 'tsne-2d-two']],\n",
    "        how='left',\n",
    "        left_on=['ID_Categories','PrimaryTopic'],\n",
    "        right_on=['Category', 'Topic'],\n",
    "        suffixes=('', '_CatTopic')\n",
    "        )"
   ]
  },
  {
   "cell_type": "code",
   "execution_count": 612,
   "metadata": {},
   "outputs": [],
   "source": [
    "coord_df.columns=['ID_Categories','tsne-2d-one', 'tsne-2d-two','volume','SecMatching',\n",
    "       'SecMatchingSim', 'ThrdMatching', 'ThrdMatchingSim', ]"
   ]
  },
  {
   "cell_type": "code",
   "execution_count": 613,
   "metadata": {},
   "outputs": [],
   "source": [
    "Finalreport_df=report_df.merge(coord_df, how='left', left_on='ID_Categories', right_on='ID_Categories',suffixes=('', '_Cat'))"
   ]
  },
  {
   "cell_type": "code",
   "execution_count": 618,
   "metadata": {},
   "outputs": [],
   "source": [
    "Finalreport_df=Finalreport_df.drop(['Description', 'Translates', 'Name_Translated',\n",
    "       'PreProcessedDescription'], axis=1)"
   ]
  },
  {
   "cell_type": "code",
   "execution_count": 619,
   "metadata": {},
   "outputs": [],
   "source": [
    "Finalreport_df.to_csv(Path+'FinalReportSimiliarID.csv', index=False)"
   ]
  },
  {
   "cell_type": "code",
   "execution_count": 621,
   "metadata": {},
   "outputs": [
    {
     "data": {
      "text/plain": [
       "Index(['Name', 'SubUrl', 'FundingFrom', 'FundingEnd', 'SubjectArea',\n",
       "       'Institution', 'File_Categories', 'Category', 'PrimaryMatching',\n",
       "       'PrimaryMatchingSim', 'SecMatching', 'SecMatchingSim', 'ThrdMatching',\n",
       "       'ThrdMatchingSim', 'ID_Categories', 'Interdiscipilinary',\n",
       "       'PrimaryTopic', 'PT_Score', 'SecondaryTopic', 'ST_score', 'tsne-2d-one',\n",
       "       'tsne-2d-two', 'Category_CatTopic', 'Topic', 'words',\n",
       "       'tsne-2d-one_CatTopic', 'tsne-2d-two_CatTopic', 'tsne-2d-one_Cat',\n",
       "       'tsne-2d-two_Cat', 'volume'],\n",
       "      dtype='object')"
      ]
     },
     "execution_count": 621,
     "metadata": {},
     "output_type": "execute_result"
    }
   ],
   "source": [
    "Finalreport_df.columns"
   ]
  },
  {
   "cell_type": "code",
   "execution_count": 676,
   "metadata": {},
   "outputs": [],
   "source": [
    "for c,w in topic_wordstest.groupby(['Category']):\n",
    "    if(w['probs'].max()>1):\n",
    "        topic_wordstest.loc[topic_words.Category==c,['probs']]=MinMaxScaler([0,1]).fit_transform(topic_wordstest[topic_wordstest.Category==c][['probs']])"
   ]
  }
 ],
 "metadata": {
  "kernelspec": {
   "display_name": "Python 3",
   "language": "python",
   "name": "python3"
  },
  "language_info": {
   "codemirror_mode": {
    "name": "ipython",
    "version": 3
   },
   "file_extension": ".py",
   "mimetype": "text/x-python",
   "name": "python",
   "nbconvert_exporter": "python",
   "pygments_lexer": "ipython3",
   "version": "3.7.3"
  }
 },
 "nbformat": 4,
 "nbformat_minor": 2
}
