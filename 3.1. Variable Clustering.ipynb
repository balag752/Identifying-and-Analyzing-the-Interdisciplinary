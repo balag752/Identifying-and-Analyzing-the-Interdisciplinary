{
 "cells": [
  {
   "cell_type": "code",
   "execution_count": 1,
   "metadata": {},
   "outputs": [],
   "source": [
    "import datetime\n",
    "import time\n",
    "\n",
    "import pandas as pd\n",
    "import spacy\n",
    "import re\n",
    "import string\n",
    "\n",
    "from matplotlib.pyplot import figure\n",
    "import matplotlib.pyplot as plt\n",
    "%matplotlib inline\n",
    "\n",
    "from spacy.tokens import Token\n",
    "from tqdm import tqdm\n",
    "from sklearn.feature_extraction.text import CountVectorizer, TfidfVectorizer\n",
    "\n",
    "import nltk\n",
    "from nltk.corpus import stopwords\n",
    "\n",
    "from sklearn.cluster import KMeans\n",
    "from sklearn.decomposition import PCA\n",
    "\n",
    "from varclushi import VarClusHi\n",
    "pd.set_option('display.max_rows', 500)"
   ]
  },
  {
   "cell_type": "code",
   "execution_count": 2,
   "metadata": {},
   "outputs": [],
   "source": [
    "#### Importing the file ####\n",
    "Path=\"src/\"\n",
    "Filename='projects_Preprocessed.csv'\n",
    "df=pd.read_csv(Path+Filename)\n",
    "\n",
    "Cat_File=\"category_hier.csv\"\n",
    "Cat_data=pd.read_csv(Path+Cat_File)\n",
    "\n",
    "## Filtering the null abstracts & short description\n",
    "df=df[(pd.isnull(df.PreProcessedDescription)==False) & (df.PreProcessedDescription.str.strip()!='abstract available')& (df.PreProcessedDescription.str.len()>100)]"
   ]
  },
  {
   "cell_type": "code",
   "execution_count": 3,
   "metadata": {},
   "outputs": [],
   "source": [
    "merged_data=df.merge(Cat_data[[\"File_Categories\",\"Category\"]], how=\"left\", left_on=\"SubjectArea\", right_on=\"File_Categories\")"
   ]
  },
  {
   "cell_type": "code",
   "execution_count": 4,
   "metadata": {},
   "outputs": [],
   "source": [
    "dummies=pd.get_dummies(merged_data['Category'])\n",
    "merged_data=pd.concat([merged_data,dummies], axis=1,ignore_index=False)"
   ]
  },
  {
   "cell_type": "code",
   "execution_count": 5,
   "metadata": {
    "scrolled": false
   },
   "outputs": [],
   "source": [
    "# TF IDF Conversion\n",
    "\n",
    "vectorizer = TfidfVectorizer(max_features=1000) #ngram_range=(2, 2)\n",
    "review_vectors = vectorizer.fit_transform(merged_data[\"PreProcessedDescription\"])\n",
    "features_df = pd.DataFrame(review_vectors.toarray(), columns = vectorizer.get_feature_names())\n",
    "\n",
    "features_df.reset_index(drop=True, inplace=True)\n",
    "merged_data.reset_index(drop=True, inplace=True)\n",
    "merged_data=pd.concat([merged_data,features_df], axis=1,ignore_index=False)\n",
    "\n",
    "wordslist=merged_data.columns.tolist()[len(df.columns)+2:]\n"
   ]
  },
  {
   "cell_type": "code",
   "execution_count": 6,
   "metadata": {},
   "outputs": [],
   "source": [
    "#merged_data[merged_data.columns.tolist()[:len(df.columns)+2]].head()"
   ]
  },
  {
   "cell_type": "code",
   "execution_count": 8,
   "metadata": {},
   "outputs": [
    {
     "name": "stdout",
     "output_type": "stream",
     "text": [
      "2020-01-24 11:59:25.037567 : Started \n",
      "2020-01-24 14:13:26.748971 : Completed for 60000 records in 134.03 mins\n"
     ]
    }
   ],
   "source": [
    "\n",
    "nrec=60000\n",
    "maxcluster=8\n",
    "\n",
    "start = time.time()\n",
    "print(str(datetime.datetime.now())+\" : Started \")\n",
    "\n",
    "demo1_vc = VarClusHi(merged_data[merged_data.columns.tolist()[len(df.columns)+2:]].head(nrec),maxeigval2=1,maxclus=maxcluster)\n",
    "demo1_vc.varclus()\n",
    "\n",
    "print(str(datetime.datetime.now())+\" : Completed for \"+str(nrec)+\" records in \"+str(round((time.time() - start)/60,2))+\" mins\")\n"
   ]
  },
  {
   "cell_type": "code",
   "execution_count": null,
   "metadata": {},
   "outputs": [],
   "source": [
    "#demo1_vc.info"
   ]
  },
  {
   "cell_type": "code",
   "execution_count": 9,
   "metadata": {},
   "outputs": [
    {
     "name": "stdout",
     "output_type": "stream",
     "text": [
      "2020-01-24 17:49:27.466055 : Started \n",
      "2020-01-24 17:49:54.541474 : Completed for 60000 records\n"
     ]
    }
   ],
   "source": [
    "#[print(i, w['Variable'].unique) for i,w in demo1_vc.rsquare.groupby('Cluster')]\n",
    "print(str(datetime.datetime.now())+\" : Started \")\n",
    "rsqresult=demo1_vc.rsquare\n",
    "print(str(datetime.datetime.now())+\" : Completed for \"+str(nrec)+\" records\")"
   ]
  },
  {
   "cell_type": "code",
   "execution_count": null,
   "metadata": {},
   "outputs": [],
   "source": [
    "#rsqresult.to_csv(Path+'variable_clusters_v2.csv', index=False)"
   ]
  },
  {
   "cell_type": "code",
   "execution_count": null,
   "metadata": {},
   "outputs": [],
   "source": [
    "for i,w in  rsqresult.groupby('Cluster'):\n",
    "    print(w.sort_values(by='RS_Ratio').head(10))"
   ]
  },
  {
   "cell_type": "code",
   "execution_count": null,
   "metadata": {},
   "outputs": [],
   "source": [
    "rsqresult[rsqresult.Variable.isin(dummies.columns.tolist())]"
   ]
  },
  {
   "cell_type": "code",
   "execution_count": null,
   "metadata": {
    "scrolled": true
   },
   "outputs": [],
   "source": [
    "rsqresult[rsqresult['Cluster']==8].sort_values(by='RS_Ratio')"
   ]
  },
  {
   "cell_type": "code",
   "execution_count": null,
   "metadata": {},
   "outputs": [],
   "source": [
    "Cluster_info=pd.DataFrame(\n",
    "{'cluster_id'  :[ '0' , '1' , '2' , '3' , '4' , '5' , '6' , '7' , '8' , '9' , '10', '11', '12', '13', '14', '15']\n",
    ",'cluster_name':[ 'General' ,'Life Sciences' ,'Humanities and Social Sciences' ,'Engineering Sciences' ,'Natural Sciences' ,'Medicine' ,'Foundation & Acquisition' ,'Chemistry & Mechanical & Electrical' ,'Life Sciences' ,'Physics & Mathematical & Geometry & Analytical & Computer' ,'Eco System & Chemistry' ,'History & Cultural' ,'Climate & Earth' ,'Human & Experiment' ,'Biology & Genetics' ,'Text & Publish' ]\n",
    ",'category'   :['General', 'Life Sciences', 'Humanities and Social Sciences', 'Engineering Sciences', 'Natural Sciences', 'Life Sciences', 'Uncategorized',  'Uncategorized',  'Life Sciences',  'Uncategorized' , 'Natural Sciences',  'Humanities and Social Sciences',  'Natural Sciences', 'Uncategorized', 'Uncategorized',  'General']\n",
    "})"
   ]
  },
  {
   "cell_type": "code",
   "execution_count": null,
   "metadata": {},
   "outputs": [],
   "source": [
    "cluster_comp_info=demo1_vc.info"
   ]
  },
  {
   "cell_type": "code",
   "execution_count": null,
   "metadata": {},
   "outputs": [],
   "source": [
    "cluster_comp_info.merge(Cluster_info, how=\"left\", left_on='Cluster', right_on='cluster_id')"
   ]
  },
  {
   "cell_type": "code",
   "execution_count": null,
   "metadata": {},
   "outputs": [],
   "source": [
    "clusters_info=cluster_comp_info.merge(Cluster_info, how=\"left\", left_on='Cluster', right_on='cluster_id')"
   ]
  },
  {
   "cell_type": "code",
   "execution_count": null,
   "metadata": {},
   "outputs": [],
   "source": [
    "clusters_info.N_Vars=clusters_info.N_Vars.astype('int32')\n",
    "clusters_info"
   ]
  },
  {
   "cell_type": "code",
   "execution_count": null,
   "metadata": {},
   "outputs": [],
   "source": [
    "clusters_info.groupby(['cluster_name','category']).sum()['N_Vars'].plot(kind='bar', y='cluster_name', x='N_Vars')"
   ]
  },
  {
   "cell_type": "code",
   "execution_count": null,
   "metadata": {},
   "outputs": [],
   "source": [
    "clusters_info.groupby('category').sum()['N_Vars'].plot(kind='bar', x='category', y='N_Vars')"
   ]
  },
  {
   "cell_type": "code",
   "execution_count": null,
   "metadata": {},
   "outputs": [],
   "source": []
  }
 ],
 "metadata": {
  "kernelspec": {
   "display_name": "Python 3",
   "language": "python",
   "name": "python3"
  },
  "language_info": {
   "codemirror_mode": {
    "name": "ipython",
    "version": 3
   },
   "file_extension": ".py",
   "mimetype": "text/x-python",
   "name": "python",
   "nbconvert_exporter": "python",
   "pygments_lexer": "ipython3",
   "version": "3.7.3"
  }
 },
 "nbformat": 4,
 "nbformat_minor": 2
}
