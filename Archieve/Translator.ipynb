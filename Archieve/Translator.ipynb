{
 "cells": [
  {
   "cell_type": "code",
   "execution_count": 3,
   "metadata": {},
   "outputs": [],
   "source": [
    "import time\n",
    "import datetime\n",
    "import pandas as pd\n",
    "import numpy as np\n",
    "import seaborn as sns \n",
    "import matplotlib.pyplot as plt\n",
    "from tqdm import tqdm\n",
    "from mtranslate import translate\n"
   ]
  },
  {
   "cell_type": "code",
   "execution_count": 31,
   "metadata": {},
   "outputs": [],
   "source": [
    "#### Importing the file ####\n",
    "Path=\"src/\"\n",
    "Filename='projects_increment_translate.csv'\n",
    "Data=pd.read_csv(Path+Filename)"
   ]
  },
  {
   "cell_type": "code",
   "execution_count": 5,
   "metadata": {},
   "outputs": [],
   "source": [
    "def save_file(updated_df):\n",
    "    Path=\"src/\"\n",
    "    Filename='projects_increment_translate.csv'\n",
    "    updated_df.to_csv(Path+Filename, sep=',',index=False)"
   ]
  },
  {
   "cell_type": "code",
   "execution_count": null,
   "metadata": {},
   "outputs": [
    {
     "name": "stderr",
     "output_type": "stream",
     "text": [
      "  0%|                                    | 76/34633 [03:49<48:58:24,  5.10s/it]"
     ]
    }
   ],
   "source": [
    "i=0\n",
    "Data=pd.read_csv(Path+Filename)\n",
    "\n",
    "if not 'Translates' in Data.columns:\n",
    "    Data['Translates']=''\n",
    "\n",
    "with tqdm(total=len(Data.Description)) as bar:\n",
    "    for desc in Data.Description:  \n",
    "        if(Data['Translates'].loc[i]=='' or pd.isnull(Data['Translates'].loc[i])):\n",
    "            if(i%1000==0):\n",
    "                Data.to_csv(Path+Filename, sep=',',index=False)\n",
    "            Data['Translates'].loc[i]=translate(desc, 'en')\n",
    "        else:\n",
    "            bar.update(1)\n",
    "            i=i+1"
   ]
  }
 ],
 "metadata": {
  "kernelspec": {
   "display_name": "Python 3",
   "language": "python",
   "name": "python3"
  },
  "language_info": {
   "codemirror_mode": {
    "name": "ipython",
    "version": 3
   },
   "file_extension": ".py",
   "mimetype": "text/x-python",
   "name": "python",
   "nbconvert_exporter": "python",
   "pygments_lexer": "ipython3",
   "version": "3.7.3"
  }
 },
 "nbformat": 4,
 "nbformat_minor": 2
}
