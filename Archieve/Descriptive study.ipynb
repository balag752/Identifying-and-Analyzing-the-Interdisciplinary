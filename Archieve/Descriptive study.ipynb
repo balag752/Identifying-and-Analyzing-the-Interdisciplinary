{
 "cells": [
  {
   "cell_type": "code",
   "execution_count": 160,
   "metadata": {},
   "outputs": [],
   "source": [
    "import time\n",
    "import datetime\n",
    "import pandas as pd\n",
    "import numpy as np\n",
    "import seaborn as sns \n",
    "\n",
    "import matplotlib.pyplot as plt\n",
    "from matplotlib.pyplot import figure\n",
    "\n",
    "from tqdm import tqdm\n",
    "from mtranslate import translate\n"
   ]
  },
  {
   "cell_type": "code",
   "execution_count": 96,
   "metadata": {},
   "outputs": [],
   "source": [
    "#### Importing the file ####\n",
    "Path=\"src/\"\n",
    "Filename='projects.csv'\n",
    "Cat_File=\"category_hier.csv\"\n",
    "Data=pd.read_csv(Path+Filename)\n",
    "Cat_data=pd.read_csv(Path+Cat_File)"
   ]
  },
  {
   "cell_type": "code",
   "execution_count": 66,
   "metadata": {},
   "outputs": [],
   "source": [
    "# Reducing the level of data to level 2\n",
    "#Cat_data=Cat_data.drop(columns=Cat_data.columns[-3:]).drop_duplicates()\n",
    "#Cat_data.index=Cat_data[\"Level 2 code\"]\n",
    "#Cat_data[\"Level 3 description\"]=Cat_data[\"Level 3 description\"].apply(lambda x:x.lower().replace(\"-\",\"\").replace(\",\",\"\").strip())\n",
    "#Cat_data[\"Level 2 description\"]=Cat_data[\"Level 2 description\"].apply(lambda x:x.lower().replace(\"-\",\"\").replace(\",\",\"\").strip())\n",
    "#Data[\"SubjectArea\"]=Data[\"SubjectArea\"].apply(lambda x:str(x).lower().replace(\"-\",\"\").replace(\",\",\"\").strip())"
   ]
  },
  {
   "cell_type": "code",
   "execution_count": 5,
   "metadata": {},
   "outputs": [
    {
     "name": "stdout",
     "output_type": "stream",
     "text": [
      "<class 'pandas.core.frame.DataFrame'>\n",
      "RangeIndex: 60825 entries, 0 to 60824\n",
      "Data columns (total 7 columns):\n",
      "Name           60825 non-null object\n",
      "SubUrl         60825 non-null object\n",
      "FundingFrom    60825 non-null int64\n",
      "FundingEnd     60825 non-null int64\n",
      "SubjectArea    60464 non-null object\n",
      "Institution    57132 non-null object\n",
      "Description    60825 non-null object\n",
      "dtypes: int64(2), object(5)\n",
      "memory usage: 3.2+ MB\n"
     ]
    }
   ],
   "source": [
    "Data.info()"
   ]
  },
  {
   "cell_type": "code",
   "execution_count": 6,
   "metadata": {},
   "outputs": [
    {
     "data": {
      "text/html": [
       "<div>\n",
       "<style scoped>\n",
       "    .dataframe tbody tr th:only-of-type {\n",
       "        vertical-align: middle;\n",
       "    }\n",
       "\n",
       "    .dataframe tbody tr th {\n",
       "        vertical-align: top;\n",
       "    }\n",
       "\n",
       "    .dataframe thead th {\n",
       "        text-align: right;\n",
       "    }\n",
       "</style>\n",
       "<table border=\"1\" class=\"dataframe\">\n",
       "  <thead>\n",
       "    <tr style=\"text-align: right;\">\n",
       "      <th></th>\n",
       "      <th>Name</th>\n",
       "      <th>SubUrl</th>\n",
       "      <th>FundingFrom</th>\n",
       "      <th>FundingEnd</th>\n",
       "      <th>SubjectArea</th>\n",
       "      <th>Institution</th>\n",
       "      <th>Description</th>\n",
       "    </tr>\n",
       "  </thead>\n",
       "  <tbody>\n",
       "    <tr>\n",
       "      <th>0</th>\n",
       "      <td>GRK 6:&amp;nbsp; Spatial Statistics</td>\n",
       "      <td>/gepris/projekt/268853</td>\n",
       "      <td>1997</td>\n",
       "      <td>2003</td>\n",
       "      <td>Mathematics</td>\n",
       "      <td>Technische Universität Bergakademie Freiberg</td>\n",
       "      <td>The work of the research training group is dir...</td>\n",
       "    </tr>\n",
       "    <tr>\n",
       "      <th>1</th>\n",
       "      <td>GRK 12:&amp;nbsp; Migration in Modern Europe</td>\n",
       "      <td>/gepris/projekt/268931</td>\n",
       "      <td>1995</td>\n",
       "      <td>2004</td>\n",
       "      <td>Social Sciences</td>\n",
       "      <td>Universität Osnabrück</td>\n",
       "      <td>The subject of the research training group 'Mi...</td>\n",
       "    </tr>\n",
       "    <tr>\n",
       "      <th>2</th>\n",
       "      <td>GRK 30:&amp;nbsp; Legal History of the European Cl...</td>\n",
       "      <td>/gepris/projekt/269105</td>\n",
       "      <td>1996</td>\n",
       "      <td>2002</td>\n",
       "      <td>Jurisprudence</td>\n",
       "      <td>Goethe-Universität Frankfurt am Main</td>\n",
       "      <td>No abstract available</td>\n",
       "    </tr>\n",
       "    <tr>\n",
       "      <th>3</th>\n",
       "      <td>GRK 45:&amp;nbsp; Integrated Fluidical Sensor-Actu...</td>\n",
       "      <td>/gepris/projekt/269237</td>\n",
       "      <td>1995</td>\n",
       "      <td>2004</td>\n",
       "      <td>Production Technology</td>\n",
       "      <td>Universität Rostock</td>\n",
       "      <td>The goal of this program consists in the mathe...</td>\n",
       "    </tr>\n",
       "    <tr>\n",
       "      <th>4</th>\n",
       "      <td>GRK 52:&amp;nbsp; Quantum Field Theory: Mathematic...</td>\n",
       "      <td>/gepris/projekt/269303</td>\n",
       "      <td>1995</td>\n",
       "      <td>2004</td>\n",
       "      <td>Condensed Matter Physics</td>\n",
       "      <td>Universität Leipzig</td>\n",
       "      <td>The aim of the research training group is to p...</td>\n",
       "    </tr>\n",
       "  </tbody>\n",
       "</table>\n",
       "</div>"
      ],
      "text/plain": [
       "                                                Name                  SubUrl  \\\n",
       "0                   GRK 6:&nbsp; Spatial Statistics   /gepris/projekt/268853   \n",
       "1          GRK 12:&nbsp; Migration in Modern Europe   /gepris/projekt/268931   \n",
       "2  GRK 30:&nbsp; Legal History of the European Cl...  /gepris/projekt/269105   \n",
       "3  GRK 45:&nbsp; Integrated Fluidical Sensor-Actu...  /gepris/projekt/269237   \n",
       "4  GRK 52:&nbsp; Quantum Field Theory: Mathematic...  /gepris/projekt/269303   \n",
       "\n",
       "   FundingFrom  FundingEnd               SubjectArea  \\\n",
       "0         1997        2003               Mathematics   \n",
       "1         1995        2004           Social Sciences   \n",
       "2         1996        2002             Jurisprudence   \n",
       "3         1995        2004     Production Technology   \n",
       "4         1995        2004  Condensed Matter Physics   \n",
       "\n",
       "                                    Institution  \\\n",
       "0  Technische Universität Bergakademie Freiberg   \n",
       "1                         Universität Osnabrück   \n",
       "2          Goethe-Universität Frankfurt am Main   \n",
       "3                           Universität Rostock   \n",
       "4                           Universität Leipzig   \n",
       "\n",
       "                                         Description  \n",
       "0  The work of the research training group is dir...  \n",
       "1  The subject of the research training group 'Mi...  \n",
       "2                             No abstract available   \n",
       "3  The goal of this program consists in the mathe...  \n",
       "4  The aim of the research training group is to p...  "
      ]
     },
     "execution_count": 6,
     "metadata": {},
     "output_type": "execute_result"
    }
   ],
   "source": [
    "Data.head()"
   ]
  },
  {
   "cell_type": "code",
   "execution_count": 10,
   "metadata": {},
   "outputs": [
    {
     "data": {
      "text/plain": [
       "8585"
      ]
     },
     "execution_count": 10,
     "metadata": {},
     "output_type": "execute_result"
    }
   ],
   "source": [
    "len(Data[Data[\"Description\"].str.strip()==\"No abstract available\"])\n",
    "## 8585 project descrition is not available"
   ]
  },
  {
   "cell_type": "code",
   "execution_count": 216,
   "metadata": {},
   "outputs": [
    {
     "data": {
      "text/plain": [
       "['Discourses of united theology ',\n",
       " 'A walk through the park: Understanding emotional mimicry in an ecological context ',\n",
       " 'Cobordism categories and geometric topology (E01 (Frenck)) ',\n",
       " 'Patterning of the epithelial planar polarized microtubule cytoskeleton ',\n",
       " 'The role of Collagen XVII and the hemidesmosome in stroma-driven progression and invasiveness of pancreatic cancer ',\n",
       " 'Qatna Studien 10: Gold of kings and gods. On the importance of gold objects for the Syrian/ Northern Levantine kingdoms of the Middle and Late Bronze Ages based on the finds from the tombs of Qatna ',\n",
       " \"A 'genealogy of hybridity'. the Treatened Orders of the multicultural Istrian peninsula (1970 - 2013) (EZ1 (G03) Simon) \",\n",
       " 'Fresnel wavelets for coherent diffractive imaging (E01_Geppert) ',\n",
       " 'Riots in mining regions. Germany and the United Kingdom during the 20th century (EZ6 (A03) Stern) ',\n",
       " 'Direct oxidative coupling for sustainable chemistry ']"
      ]
     },
     "execution_count": 216,
     "metadata": {},
     "output_type": "execute_result"
    }
   ],
   "source": [
    "Data[\"Name\"][Data[\"Description\"].str.strip()==\"No abstract available\"].tail(10).tolist()"
   ]
  },
  {
   "cell_type": "code",
   "execution_count": 217,
   "metadata": {},
   "outputs": [
    {
     "data": {
      "text/plain": [
       "['GRK 6:&nbsp; Spatial Statistics ',\n",
       " 'GRK 12:&nbsp; Migration in Modern Europe ',\n",
       " 'GRK 30:&nbsp; Legal History of the European Classical Antiquity, the Middle Ages, Legal History of Modern Times and Contemporary Legal History ',\n",
       " 'GRK 45:&nbsp; Integrated Fluidical Sensor-Actuator Systems ',\n",
       " 'GRK 52:&nbsp; Quantum Field Theory: Mathematical Structure and Applications to Elementary Particle and Solid State Physics ',\n",
       " 'GRK 60:&nbsp; Molecular Biological Analysis of Pathophysiological Processes ',\n",
       " 'GRK 80:&nbsp; Model Studies of Structures, Properties and Recognition of Biologically Relevant Molecules at Atomic Level ',\n",
       " 'GRK 115:&nbsp; Ocean Engineering Structures ',\n",
       " 'GRK 120:&nbsp; Signalling Cascades in Living Systems ',\n",
       " 'GRK 136:&nbsp; System Efficiency and System Dynamics in Developing Countries ? The Micro-Foundation of Macro-Processes of Economic, Political and Social Transformation ']"
      ]
     },
     "execution_count": 217,
     "metadata": {},
     "output_type": "execute_result"
    }
   ],
   "source": [
    "## Need to cleanse the title - only probablitic in first 210 records\n",
    "\n",
    "Data.Name.head(10).tolist()"
   ]
  },
  {
   "cell_type": "code",
   "execution_count": 98,
   "metadata": {},
   "outputs": [],
   "source": [
    "merged_data=Data.merge(Cat_data[[\"File_Categories\",\"Category\"]], how=\"left\", left_on=\"SubjectArea\", right_on=\"File_Categories\")"
   ]
  },
  {
   "cell_type": "code",
   "execution_count": 102,
   "metadata": {},
   "outputs": [
    {
     "data": {
      "text/plain": [
       "0    NaN\n",
       "dtype: object"
      ]
     },
     "execution_count": 102,
     "metadata": {},
     "output_type": "execute_result"
    }
   ],
   "source": [
    "pd.Series(merged_data[\"SubjectArea\"][pd.isnull(merged_data[\"File_Categories\"])].unique())"
   ]
  },
  {
   "cell_type": "code",
   "execution_count": 124,
   "metadata": {},
   "outputs": [
    {
     "data": {
      "image/png": "[encoded data removed]",
      "text/plain": [
       "<Figure size 432x288 with 1 Axes>"
      ]
     },
     "metadata": {
      "needs_background": "light"
     },
     "output_type": "display_data"
    }
   ],
   "source": [
    "y=merged_data.groupby(\"Category\").count()[\"Description\"].index\n",
    "x=merged_data.groupby(\"Category\").count()[\"Description\"].values\n",
    "\n",
    "plt.bar(y,x);\n",
    "plt.xticks(rotation=70);"
   ]
  },
  {
   "cell_type": "code",
   "execution_count": 206,
   "metadata": {},
   "outputs": [
    {
     "data": {
      "text/plain": [
       "<Figure size 720x360 with 0 Axes>"
      ]
     },
     "metadata": {},
     "output_type": "display_data"
    },
    {
     "data": {
      "image/png": "[encoded data removed]",
      "text/plain": [
       "<Figure size 432x288 with 2 Axes>"
      ]
     },
     "metadata": {
      "needs_background": "light"
     },
     "output_type": "display_data"
    }
   ],
   "source": [
    "\n",
    "figure(num=None, figsize=(10,5))\n",
    "\n",
    "y=merged_data[merged_data.FundingFrom!=0].groupby(\"FundingFrom\").count()[\"Description\"].index\n",
    "x=merged_data[merged_data.FundingFrom!=0].groupby(\"FundingFrom\").count()[\"Description\"].values\n",
    "\n",
    "y2=merged_data[merged_data.FundingEnd!=0].groupby(\"FundingEnd\").count()[\"Description\"].index\n",
    "x2=merged_data[merged_data.FundingEnd!=0].groupby(\"FundingEnd\").count()[\"Description\"].values\n",
    "\n",
    "fig, ax1 = plt.subplots();\n",
    "\n",
    "color = 'tab:red';\n",
    "ax1.set_xlabel('year (s)');\n",
    "ax1.set_ylabel('FundingFrom', color=color);\n",
    "ax1.plot(y,x, color=color);\n",
    "ax1.tick_params(axis='y', labelcolor=color);\n",
    "\n",
    "ax2 = ax1.twinx();\n",
    "\n",
    "color = 'tab:blue'\n",
    "\n",
    "ax2.set_ylabel('FundingEnd', color=color);\n",
    "ax2.plot(y2,x2, color=color);\n",
    "ax2.tick_params(axis='y', labelcolor=color);\n",
    "fig.tight_layout();  # otherwise the right y-label is slightly clipped\n",
    "plt.show();"
   ]
  },
  {
   "cell_type": "code",
   "execution_count": 207,
   "metadata": {},
   "outputs": [
    {
     "data": {
      "image/png": "[encoded data removed]",
      "text/plain": [
       "<Figure size 432x288 with 1 Axes>"
      ]
     },
     "metadata": {
      "needs_background": "light"
     },
     "output_type": "display_data"
    }
   ],
   "source": [
    "merged_data[\"Fundingperiod\"]=merged_data[\"FundingEnd\"]-merged_data[\"FundingFrom\"]\n",
    "\n",
    "merged_data.Fundingperiod.hist();\n"
   ]
  },
  {
   "cell_type": "code",
   "execution_count": 213,
   "metadata": {},
   "outputs": [
    {
     "data": {
      "text/plain": [
       "Institution\n",
       " Rheinische Friedrich-Wilhelms-Universität Bonn         855\n",
       " Rheinisch-Westfälische Technische Hochschule Aachen    847\n",
       " Georg-August-Universität Göttingen                     816\n",
       " Ludwig-Maximilians-Universität München                 809\n",
       " Goethe-Universität Frankfurt am Main                   797\n",
       " Technische Universität München                         776\n",
       " Ruhr-Universität Bochum                                635\n",
       " Universität Stuttgart                                  594\n",
       " Johannes Gutenberg-Universität Mainz                   579\n",
       " Technische Universität Berlin                          548\n",
       "Name: Description, dtype: int64"
      ]
     },
     "execution_count": 213,
     "metadata": {},
     "output_type": "execute_result"
    }
   ],
   "source": [
    "# Total institutes - Length: 2567\n",
    "\n",
    "merged_data[merged_data.Institution.str.strip()!=\"\"].groupby(\"Institution\").count()[\"Description\"].sort_values(ascending=False).head(10)"
   ]
  }
 ],
 "metadata": {
  "kernelspec": {
   "display_name": "Python 3",
   "language": "python",
   "name": "python3"
  },
  "language_info": {
   "codemirror_mode": {
    "name": "ipython",
    "version": 3
   },
   "file_extension": ".py",
   "mimetype": "text/x-python",
   "name": "python",
   "nbconvert_exporter": "python",
   "pygments_lexer": "ipython3",
   "version": "3.7.3"
  }
 },
 "nbformat": 4,
 "nbformat_minor": 2
}
